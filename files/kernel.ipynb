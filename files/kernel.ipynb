{
  "cells": [
    {
      "metadata": {
        "_uuid": "8f2839f25d086af736a60e9eeb907d3b93b6e0e5",
        "_cell_guid": "b1076dfc-b9ad-4769-8c92-a6c4dae69d19",
        "trusted": true,
        "collapsed": true
      },
      "cell_type": "code",
      "source": "import pandas as pd\nimport numpy as np\nimport matplotlib.pyplot as plt\nimport matplotlib.image as mpimg\nimport seaborn as sns\nfrom sklearn.model_selection import train_test_split\n# from sklearn.metrics import confusion_matrix\n\nimport tensorflow as tf\n\nfrom keras.utils.np_utils import to_categorical\nfrom keras.models import Sequential\nfrom keras.layers import Dense, Dropout, Flatten, Conv2D, MaxPool2D\nfrom keras.optimizers import adam\nfrom keras.preprocessing.image import ImageDataGenerator\nfrom keras.callbacks import ReduceLROnPlateau\nimport keras.backend as K\nconfig = tf.ConfigProto( device_count = {'GPU': 1 , 'CPU': 16} ) \nsess = tf.Session(config=config) \nK.set_session(sess)\nsns.set(style='white', context='notebook', palette='deep')\n%matplotlib inline",
      "execution_count": 33,
      "outputs": []
    },
    {
      "metadata": {
        "_cell_guid": "79c7e3d0-c299-4dcb-8224-4455121ee9b0",
        "_uuid": "d629ff2d2480ee46fbb7e2d37f6b5fab8052498a",
        "trusted": true,
        "collapsed": true
      },
      "cell_type": "code",
      "source": "data= pd.read_csv(\"../input/train.csv\")\ntest_data= pd.read_csv(\"../input/test.csv\")",
      "execution_count": 34,
      "outputs": []
    },
    {
      "metadata": {
        "trusted": true,
        "_uuid": "81b288daa2c12eb5a3bce0f8ddbf1873161200d0"
      },
      "cell_type": "code",
      "source": "print('shape of the data is:',data.shape)",
      "execution_count": 35,
      "outputs": [
        {
          "output_type": "stream",
          "text": "shape of the data is: (42000, 785)\n",
          "name": "stdout"
        }
      ]
    },
    {
      "metadata": {
        "trusted": true,
        "_uuid": "679e783bcbb1e51ef5044abe6f0d4587ffec3e32"
      },
      "cell_type": "code",
      "source": "#checking if the data is skewed\nplt.figure(figsize=(8,4))\nsns.countplot(data.label)\n# (data.label.value_counts()/len(data)).sort_index().plot.bar()\n# sns.distplot(data.label,bins=10,kde=False)",
      "execution_count": 36,
      "outputs": [
        {
          "output_type": "execute_result",
          "execution_count": 36,
          "data": {
            "text/plain": "<matplotlib.axes._subplots.AxesSubplot at 0x7fea22988c50>"
          },
          "metadata": {}
        },
        {
          "output_type": "display_data",
          "data": {
            "text/plain": "<matplotlib.figure.Figure at 0x7fea22988b00>",
            "image/png": "[encoded data removed]"
          },
          "metadata": {}
        }
      ]
    },
    {
      "metadata": {
        "trusted": true,
        "_uuid": "3d150e465a94d959b2e68f01442e43c096b6af8b"
      },
      "cell_type": "code",
      "source": "# checking for null values\ndata.label.isnull().value_counts()",
      "execution_count": 37,
      "outputs": [
        {
          "output_type": "execute_result",
          "execution_count": 37,
          "data": {
            "text/plain": "False    42000\nName: label, dtype: int64"
          },
          "metadata": {}
        }
      ]
    },
    {
      "metadata": {
        "_uuid": "0f95024912fdbcbd673a6b0df8704dcb49544cd7"
      },
      "cell_type": "markdown",
      "source": "So, all labels are properly labeled\n\nNow checking for remaining columns"
    },
    {
      "metadata": {
        "trusted": true,
        "_uuid": "7cdde6a8dc5dfcb5736c443981d7c1172d46b72b"
      },
      "cell_type": "code",
      "source": "data.isnull().sum().sum()",
      "execution_count": 38,
      "outputs": [
        {
          "output_type": "execute_result",
          "execution_count": 38,
          "data": {
            "text/plain": "0"
          },
          "metadata": {}
        }
      ]
    },
    {
      "metadata": {
        "trusted": true,
        "collapsed": true,
        "_uuid": "fb03015b90835296a77ca9cfe9a91033ac626792"
      },
      "cell_type": "code",
      "source": "#extracting labels\nY=data.label\ndata.drop(labels=['label'],axis=1,inplace=True)\n#Normalising values to remove effects of illuminationa and faster convergence\ndata/=255.0;",
      "execution_count": 39,
      "outputs": []
    },
    {
      "metadata": {
        "trusted": true,
        "_uuid": "2d7c5990cb01d39deb4e91e80f3bae8821ed11fc"
      },
      "cell_type": "code",
      "source": "train_image_array=np.array(data).reshape(-1,28,28,1)\nprint(\"shape of new train array:\",train_image_array.shape )",
      "execution_count": 40,
      "outputs": [
        {
          "output_type": "stream",
          "text": "shape of new train array: (42000, 28, 28, 1)\n",
          "name": "stdout"
        }
      ]
    },
    {
      "metadata": {
        "trusted": true,
        "_uuid": "6b4083e9f31c23204c8e3c8bc03754ce6cce3ca1"
      },
      "cell_type": "code",
      "source": "#checking if everything is correct\nprint(Y[20000])\nplt.figure(1)\nplt.gray()\nplt.imshow(train_image_array[20000,:,:,0],cmap=plt.cm.binary)\nplt.show()",
      "execution_count": 41,
      "outputs": [
        {
          "output_type": "stream",
          "text": "3\n",
          "name": "stdout"
        },
        {
          "output_type": "display_data",
          "data": {
            "text/plain": "<matplotlib.figure.Figure at 0x7fea2288fb00>",
            "image/png": "[encoded data removed]"
          },
          "metadata": {}
        }
      ]
    },
    {
      "metadata": {
        "trusted": true,
        "_uuid": "27277f873f21b97ec06dbc86db75bfdbd7b04716"
      },
      "cell_type": "code",
      "source": "#preparing output for CNN\ntrain_label = to_categorical(Y)\ntrain_label.shape",
      "execution_count": 42,
      "outputs": [
        {
          "output_type": "execute_result",
          "execution_count": 42,
          "data": {
            "text/plain": "(42000, 10)"
          },
          "metadata": {}
        }
      ]
    },
    {
      "metadata": {
        "_uuid": "a4116adbc17df0b8dc1ded1d422593004c6f149c"
      },
      "cell_type": "markdown",
      "source": "# CNN Model"
    },
    {
      "metadata": {
        "trusted": true,
        "_uuid": "cdd10222aa3cc88d4ddc9dc50a4b5cfbced41084",
        "collapsed": true
      },
      "cell_type": "code",
      "source": "model= Sequential()\nmodel.add(Conv2D(filters = 32, \n                 kernel_size = (5,5),\n                 padding = 'Same',\n                 activation ='relu',\n                 input_shape = (28,28,1)))\nmodel.add(MaxPool2D( (2,2) ) )\n\nmodel.add(Conv2D(filters = 64, \n                 kernel_size = (3,3),\n                 padding = 'Same',\n                 activation ='sigmoid') )\nmodel.add(Dropout(0.2))\nmodel.add(Conv2D(filters = 128, \n                 kernel_size = (3,3),\n                 padding = 'Same',\n                 activation ='relu') )\nmodel.add(Dropout(0.2))\nmodel.add(Conv2D(filters = 128, \n                 kernel_size = (3,3),\n                 strides=(2,2),\n                 padding = 'Same', \n                 activation ='relu'))\nmodel.add(Conv2D(filters = 128, \n                 kernel_size = (3,3),\n                 padding = 'Same', \n                 activation ='relu'))\nmodel.add(MaxPool2D(pool_size=(2,2)))\nmodel.add(Dropout(0.2))\nmodel.add(Flatten())\nmodel.add(Dense(256, activation = \"relu\"))\nmodel.add(Dropout(0.2))\nmodel.add(Dense(10, activation = \"softmax\"))",
      "execution_count": 43,
      "outputs": []
    },
    {
      "metadata": {
        "trusted": true,
        "collapsed": true,
        "_uuid": "bb8eb44c2133605ed7417e7e7f3a8267c23e63e9"
      },
      "cell_type": "code",
      "source": "X_train,X_test,y_train,y_test = train_test_split(train_image_array,train_label,test_size=0.1,random_state=42)",
      "execution_count": null,
      "outputs": []
    },
    {
      "metadata": {
        "trusted": true,
        "scrolled": false,
        "_uuid": "3261729ea41e00a518f0a7621a7a9eab008a1214",
        "collapsed": true
      },
      "cell_type": "code",
      "source": "model.compile(loss=\"categorical_crossentropy\",\n              optimizer=\"adam\",\n              metrics=['accuracy'])\nepochs=30\nbatch_size=100\nmodel.fit(X_train, y_train,\n          batch_size=batch_size,\n          epochs=epochs)\n# ,\n#           validation_data=(X_test,y_test))",
      "execution_count": null,
      "outputs": []
    },
    {
      "metadata": {
        "trusted": true,
        "collapsed": true,
        "_uuid": "880e39ca6ab7e95dbda4a282db313fd590987656"
      },
      "cell_type": "code",
      "source": "test_data=pd.read_csv('../input/test.csv')",
      "execution_count": null,
      "outputs": []
    },
    {
      "metadata": {
        "trusted": true,
        "collapsed": true,
        "_uuid": "f4ad8788bdc9758ece8ae3934554ac3934464fcf"
      },
      "cell_type": "code",
      "source": "test_data/=255.0\ntest_image_array=np.array(test_data).reshape(-1,28,28,1)",
      "execution_count": null,
      "outputs": []
    },
    {
      "metadata": {
        "trusted": true,
        "_uuid": "3bda5dded860c9945eab8c48b6e70997a612327c",
        "collapsed": true
      },
      "cell_type": "code",
      "source": "test_image_array.shape",
      "execution_count": null,
      "outputs": []
    },
    {
      "metadata": {
        "trusted": true,
        "collapsed": true,
        "_uuid": "0d11ed7242b769400806375c0b672eca914b85f9"
      },
      "cell_type": "code",
      "source": "results = model.predict(test_image_array)",
      "execution_count": null,
      "outputs": []
    },
    {
      "metadata": {
        "trusted": true,
        "collapsed": true,
        "_uuid": "948e6fefe5b06a4a870a19a812b9e440ad601461"
      },
      "cell_type": "code",
      "source": "pred = []\nnumTest = results.shape[0]\nfor i in range(numTest):\n    pred.append(np.argmax(results[i])) \npredictions = np.array(pred)  ",
      "execution_count": null,
      "outputs": []
    },
    {
      "metadata": {
        "trusted": true,
        "_uuid": "cbfaa05eca0b64f96e6f74de73b6752a36ab0678",
        "collapsed": true
      },
      "cell_type": "code",
      "source": "sample_submission = pd.read_csv('../input/sample_submission.csv')\n#print(sample_submission.shape)\nresult=pd.DataFrame({'ImageId':sample_submission.ImageId, 'Label':predictions})\nresult.to_csv(\"submission.csv\",index=False)\nprint(result)",
      "execution_count": null,
      "outputs": []
    },
    {
      "metadata": {
        "trusted": true,
        "collapsed": true,
        "_uuid": "e93a0944ce4342055150ed6d95c1c83490f81e22"
      },
      "cell_type": "code",
      "source": "",
      "execution_count": null,
      "outputs": []
    }
  ],
  "metadata": {
    "kernelspec": {
      "display_name": "Python 3",
      "language": "python",
      "name": "python3"
    },
    "language_info": {
      "name": "python",
      "version": "3.6.4",
      "mimetype": "text/x-python",
      "codemirror_mode": {
        "name": "ipython",
        "version": 3
      },
      "pygments_lexer": "ipython3",
      "nbconvert_exporter": "python",
      "file_extension": ".py"
    }
  },
  "nbformat": 4,
  "nbformat_minor": 1
}